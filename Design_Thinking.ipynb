{
  "nbformat": 4,
  "nbformat_minor": 0,
  "metadata": {
    "colab": {
      "provenance": [],
      "authorship_tag": "ABX9TyOYCvBojWPpZMOPy6JwT9Db",
      "include_colab_link": true
    },
    "kernelspec": {
      "name": "python3",
      "display_name": "Python 3"
    },
    "language_info": {
      "name": "python"
    }
  },
  "cells": [
    {
      "cell_type": "markdown",
      "metadata": {
        "id": "view-in-github",
        "colab_type": "text"
      },
      "source": [
        "<a href=\"https://colab.research.google.com/github/yaelkanter/colab-cloud/blob/main/Design_Thinking.ipynb\" target=\"_parent\"><img src=\"https://colab.research.google.com/assets/colab-badge.svg\" alt=\"Open In Colab\"/></a>"
      ]
    },
    {
      "cell_type": "code",
      "execution_count": null,
      "metadata": {
        "id": "WtGPaKIRBKWP"
      },
      "outputs": [],
      "source": [
        "import json\n",
        "from google.colab import drive\n",
        "import ipywidgets as widgets\n",
        "from IPython.display import display, clear_output\n",
        "\n",
        "# Mount Google Drive\n",
        "drive.mount('/content/drive')\n",
        "\n",
        "# Correct file path\n",
        "questions_file_path = '/content/drive/MyDrive/questions.json'\n",
        "\n",
        "# Load questions from JSON file\n",
        "with open(questions_file_path, 'r') as f:\n",
        "    questions = json.load(f)\n",
        "\n",
        "def run_quiz():\n",
        "    player_score = 0\n",
        "    current_question_index = 0\n",
        "\n",
        "    # Display the first question\n",
        "    def display_question():\n",
        "        nonlocal player_score\n",
        "        nonlocal current_question_index\n",
        "\n",
        "        # Clear the output for the next question\n",
        "        clear_output(wait=True)\n",
        "\n",
        "        if current_question_index < min(5, len(questions)):\n",
        "            # Display the current question\n",
        "            question = questions[current_question_index]\n",
        "            print(f\"\\nQuestion {current_question_index + 1}: {question['text']}\")\n",
        "\n",
        "            # Create radio buttons for answer options\n",
        "            options_radio_buttons = widgets.RadioButtons(options=[(f\"{j}. {option}\", j) for j, option in enumerate(question['options'], 1)],\n",
        "                                                         value=None,  # Set default value to None\n",
        "                                                         description=\"Choose your answer:\")\n",
        "\n",
        "            # Create a submit button\n",
        "            submit_button = widgets.Button(description=\"Submit\")\n",
        "\n",
        "            # Display widgets in the main screen\n",
        "            display(options_radio_buttons, submit_button)\n",
        "\n",
        "            # Record the selected answer\n",
        "            def on_submit_button_click(b):\n",
        "                nonlocal player_score\n",
        "                nonlocal current_question_index\n",
        "\n",
        "                player_answer = options_radio_buttons.value\n",
        "\n",
        "                # Set a default value for player_answer if it is None\n",
        "                player_answer = player_answer or 0\n",
        "\n",
        "                # Check if the answer is correct and increment the score\n",
        "                if player_answer == question['options'].index(question['correct']) + 1:\n",
        "                    player_score += 1\n",
        "\n",
        "                # Increment the question index\n",
        "                current_question_index += 1\n",
        "\n",
        "                # Remove the button click event to prevent multiple bindings\n",
        "                submit_button.on_click(on_submit_button_click)\n",
        "\n",
        "                # Show the next question or display final score\n",
        "                if current_question_index < min(5, len(questions)):\n",
        "                    display_question()\n",
        "                else:\n",
        "                    # If all questions are answered, display the final score\n",
        "                    clear_output(wait=True)\n",
        "                    print(f\"\\nQuiz completed! Your score: {player_score}/{min(5, len(questions))}\")\n",
        "\n",
        "            # Attach the function to the button's click event\n",
        "            submit_button.on_click(on_submit_button_click)\n",
        "\n",
        "    # Display the first question\n",
        "    display_question()\n",
        "\n",
        "if __name__ == \"__main__\":\n",
        "    run_quiz()\n"
      ]
    }
  ]
}