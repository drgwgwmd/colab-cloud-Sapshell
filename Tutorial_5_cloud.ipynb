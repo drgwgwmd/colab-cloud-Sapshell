{
  "nbformat": 4,
  "nbformat_minor": 0,
  "metadata": {
    "colab": {
      "provenance": []
    },
    "kernelspec": {
      "name": "python3",
      "display_name": "Python 3"
    },
    "language_info": {
      "name": "python"
    }
  },
  "cells": [
    {
      "cell_type": "code",
      "execution_count": 1,
      "metadata": {
        "colab": {
          "base_uri": "https://localhost:8080/"
        },
        "id": "eyLPlSM-XAo-",
        "outputId": "c8c9f0bb-109d-4de8-e325-3b781b3e3e40"
      },
      "outputs": [
        {
          "output_type": "stream",
          "name": "stdout",
          "text": [
            "Collecting firebase\n",
            "  Downloading firebase-4.0.1-py3-none-any.whl (12 kB)\n",
            "Requirement already satisfied: requests in /usr/local/lib/python3.10/dist-packages (from firebase) (2.31.0)\n",
            "Requirement already satisfied: charset-normalizer<4,>=2 in /usr/local/lib/python3.10/dist-packages (from requests->firebase) (3.3.2)\n",
            "Requirement already satisfied: idna<4,>=2.5 in /usr/local/lib/python3.10/dist-packages (from requests->firebase) (3.6)\n",
            "Requirement already satisfied: urllib3<3,>=1.21.1 in /usr/local/lib/python3.10/dist-packages (from requests->firebase) (2.0.7)\n",
            "Requirement already satisfied: certifi>=2017.4.17 in /usr/local/lib/python3.10/dist-packages (from requests->firebase) (2024.2.2)\n",
            "Installing collected packages: firebase\n",
            "Successfully installed firebase-4.0.1\n"
          ]
        }
      ],
      "source": [
        "!pip install firebase\n"
      ]
    },
    {
      "cell_type": "code",
      "source": [
        "from firebase import firebase\n",
        "\n",
        "# Initialize Firebase connection\n",
        "FBconn = firebase.FirebaseApplication('https://tirgul5-f56c9-default-rtdb.firebaseio.com/', None)\n",
        "\n",
        "# Function to add a student to the Firebase database\n",
        "def add_student(name, fname, mail, courses, tv):\n",
        "    data_to_upload = {\n",
        "        'Name': name,\n",
        "        'Fname': fname,\n",
        "        'mail': mail,\n",
        "        'Courses': courses,\n",
        "        'TV': tv\n",
        "    }\n",
        "    result = FBconn.post('/tirgul5-f56c9/Students', data_to_upload)\n",
        "    print(result)\n",
        "\n",
        "# Main loop to continuously add students\n",
        "while True:\n",
        "    # Input student details\n",
        "    name = input(\"Enter student name (press Empty string to stop): \")\n",
        "    if not name:\n",
        "        break  # Stop if name is empty (user pressed Enter)\n",
        "\n",
        "    fname = input(\"Enter student's family name: \")\n",
        "    mail = input(\"Enter student's email: \")\n",
        "    courses = input(\"Enter student's courses (comma-separated): \").split(',')\n",
        "    tv = input(\"Enter student's favorite TV show: \")\n",
        "\n",
        "    # Add student to the Firebase database\n",
        "    add_student(name, fname, mail, courses, tv)\n",
        "\n"
      ],
      "metadata": {
        "colab": {
          "base_uri": "https://localhost:8080/"
        },
        "id": "YT0KTkayXMEO",
        "outputId": "a17ea923-6e94-4fa3-d0f7-b5b27704ee1f"
      },
      "execution_count": 24,
      "outputs": [
        {
          "name": "stdout",
          "output_type": "stream",
          "text": [
            "Enter student name (press Enter to stop): 1\n",
            "Enter student's family name: 1\n",
            "Enter student's email: 1\n",
            "Enter student's courses (comma-separated): 1\n",
            "Enter student's favorite TV show: 1\n",
            "{'name': '-NqMbBBdvQCCR1bYNq_n'}\n",
            "Enter student name (press Enter to stop): \n"
          ]
        }
      ]
    },
    {
      "cell_type": "code",
      "source": [
        "\n",
        "from firebase import firebase\n",
        "\n",
        "# Initialize Firebase connection\n",
        "firebase = firebase.FirebaseApplication('https://tirgul5-f56c9-default-rtdb.firebaseio.com/', None)\n",
        "\n",
        "# Get and print data from the \"avocado\" collection\n",
        "result = firebase.get('/tirgul5-f56c9/Students', None)\n",
        "print(result)\n"
      ],
      "metadata": {
        "colab": {
          "base_uri": "https://localhost:8080/"
        },
        "id": "A0n2EzGBY9kt",
        "outputId": "3e9298e6-77c9-4ab8-9362-3d67010ded95"
      },
      "execution_count": 22,
      "outputs": [
        {
          "output_type": "stream",
          "name": "stdout",
          "text": [
            "{'-NqMYL3G_WRAvSb7rr5s': {'Courses': ['a', 'b', 'c', 'd', 'e'], 'Fname': 'vachiler', 'Name': 'Shahar', 'TV': 'news', 'mail': 'gggggg'}, '-NqMZK4QpRpeH1r7Et5B': {'Courses': ['a', 'c', 'b', 'cv'], 'Fname': 'ddd', 'Name': 'aa', 'TV': 'dfd', 'mail': 'dd'}, '-NqM_BL5kEUrrBqalBaJ': {'Courses': ['\"Introduction to cloud computing\"', '             \"Algorithms for texts and sequences\"', '             \"Computer graphics\"', '             \"Compilation theory\"', '             \"Computer networks\"', '             \"Digital signal processing DSP\"', '             \"Seminar on matching project templates\"'], 'Fname': 'Dalal', 'Name': 'Shachar', 'TV': 'The expanse', 'mail': 'shchar.dalal@e.braude.ac.il'}, '-NqM_TW6YT6pd4sE4JDn': {'Courses': ['\"Cloud Computing\"', '             \"Algorithms for texts and sequences\"', '             \"Seminar in patterns\"', '             \"Final Project part 1\"', '             \"Computing Networks\"', '             \"Compilation Theory\"'], 'Fname': 'Vachiler', 'Name': 'Shahar', 'TV': 'news', 'mail': 'shaharvac95@gmail.com'}, '-NqM_f0l2Hy63Zap_p6S': {'Courses': [' \"Introduction to cloud computing\"', '             \"Compilation Theory\"', '             \"Advanced Web Technologies\"', '             \"Probability\"', '             \"Physics\"', '             \"RT Computing\"'], 'Fname': 'Cohen', 'Name': 'Aviv', 'TV': 'news2', 'mail': 'aviv.cohen@e.braude.ac.il'}, '-NqM_r2qsNYvl9FvKsq5': {'Courses': [' \"Physics for software\"', '             \"Automata\"', '             \"Probability cloud computing\"', '             \"Web technologies\"'], 'Fname': 'Kanter', 'Name': 'Yael', 'TV': 'news3', 'mail': 'yael.kanter@e.braude.ac.il'}, '-NqMa-FVquCUxaJev-zB': {'Courses': ['\"Introduction to cloud computing\"', '             \"Probability for Software Engineering\"', '             \"Automata and Computability\"', '             \"Mechanics for Software Engineering\"', '             \"Advanced Web Technologies\"'], 'Fname': 'Katz', 'Name': 'Yoav', 'TV': 'news4', 'mail': 'Yoav.Katz@e.braude.ac.il'}, '-NqMaA9Pj88s_jcxYIqC': {'Courses': ['\"Operating Systems\"', '             \"Algebraic Structures for Software Engineering 2\"', '             \"Introduction to Cloud Computing\"', '             \"Algorithms\"', '             \"Physics\"'], 'Fname': 'Kanter', 'Name': 'Iris', 'TV': 'news5', 'mail': 'iris.kanter@e.braude.ac.il'}, '-NqMaCIP_8IJVlUFLA6C': {'Courses': [''], 'Fname': '', 'Name': '', 'TV': '', 'mail': ''}}\n"
          ]
        }
      ]
    }
  ]
}